{
 "cells": [
  {
   "cell_type": "code",
   "execution_count": 1,
   "metadata": {},
   "outputs": [],
   "source": [
    "import pandas as pd\n",
    "import geopandas as gpd\n",
    "import matplotlib.pyplot as plt\n",
    "from sklearn.metrics import r2_score\n",
    "import os\n",
    "import numpy as np\n",
    "import warnings; warnings.simplefilter('ignore')\n",
    "import seaborn as sns\n",
    "sns.set_palette('Set1')\n",
    "sns.set_style('white')\n",
    "pd.set_option('display.max_columns', None)\n",
    "# pd.set_option('display.max_rows', None)\n",
    "data_dir = 'C:/Users/mmh/Documents/Data/'\n",
    "data_dir2 = 'C:/Users/mmh/OneDrive - Oak Ridge National Laboratory/Melrose/9.Data/'\n",
    "map_dir = 'C:/Users/mmh/OneDrive - Oak Ridge National Laboratory/Melrose/8.Maps/'"
   ]
  },
  {
   "cell_type": "markdown",
   "metadata": {},
   "source": [
    "# Read OD"
   ]
  },
  {
   "cell_type": "code",
   "execution_count": 2,
   "metadata": {},
   "outputs": [
    {
     "name": "stdout",
     "output_type": "stream",
     "text": [
      "2267953344\n",
      "2284878240\n"
     ]
    },
    {
     "data": {
      "text/html": [
       "<div>\n",
       "<style scoped>\n",
       "    .dataframe tbody tr th:only-of-type {\n",
       "        vertical-align: middle;\n",
       "    }\n",
       "\n",
       "    .dataframe tbody tr th {\n",
       "        vertical-align: top;\n",
       "    }\n",
       "\n",
       "    .dataframe thead th {\n",
       "        text-align: right;\n",
       "    }\n",
       "</style>\n",
       "<table border=\"1\" class=\"dataframe\">\n",
       "  <thead>\n",
       "    <tr style=\"text-align: right;\">\n",
       "      <th></th>\n",
       "      <th>origin</th>\n",
       "      <th>destination</th>\n",
       "      <th>dist</th>\n",
       "    </tr>\n",
       "  </thead>\n",
       "  <tbody>\n",
       "    <tr>\n",
       "      <th>0</th>\n",
       "      <td>1005</td>\n",
       "      <td>130039602002</td>\n",
       "      <td>225.0</td>\n",
       "    </tr>\n",
       "    <tr>\n",
       "      <th>1</th>\n",
       "      <td>1005</td>\n",
       "      <td>130099702012</td>\n",
       "      <td>225.0</td>\n",
       "    </tr>\n",
       "    <tr>\n",
       "      <th>2</th>\n",
       "      <td>1005</td>\n",
       "      <td>130159601031</td>\n",
       "      <td>0.0</td>\n",
       "    </tr>\n",
       "    <tr>\n",
       "      <th>3</th>\n",
       "      <td>1005</td>\n",
       "      <td>130159602011</td>\n",
       "      <td>225.0</td>\n",
       "    </tr>\n",
       "    <tr>\n",
       "      <th>4</th>\n",
       "      <td>1005</td>\n",
       "      <td>130159604031</td>\n",
       "      <td>225.0</td>\n",
       "    </tr>\n",
       "  </tbody>\n",
       "</table>\n",
       "</div>"
      ],
      "text/plain": [
       "   origin   destination   dist\n",
       "0    1005  130039602002  225.0\n",
       "1    1005  130099702012  225.0\n",
       "2    1005  130159601031    0.0\n",
       "3    1005  130159602011  225.0\n",
       "4    1005  130159604031  225.0"
      ]
     },
     "execution_count": 2,
     "metadata": {},
     "output_type": "execute_result"
    }
   ],
   "source": [
    "# read all OD\n",
    "od = pd.read_feather(data_dir+'OD/GDOT_2019_09.feather')\n",
    "print(od.memory_usage(index=True).sum())\n",
    "od = od[~od.origin_zone_id.str.contains(\"_\", na=False)]\n",
    "od = od[~od.destination_zone_id.str.contains(\"_\", na=False)]\n",
    "od = od[od.day_type=='Weekday']\n",
    "print(od.memory_usage(index=True).sum())\n",
    "od.origin_zone_id = od.origin_zone_id.astype('int64')\n",
    "od.destination_zone_id = od.destination_zone_id.astype('int64')\n",
    "\n",
    "cols_dist = ['distance_0_1_pct','distance_1_2.5_pct','distance_2.5_5_pct','distance_5_10_pct',\n",
    "             'distance_10_25_pct','distance_25_50_pct','distance_50_75_pct','distance_75_100_pct',\n",
    "             'distance_100_150_pct','distance_150_300_pct','distance_gt300_pct']\n",
    "dist_mean = [0.5,1.75,3.75,7.5,17.5,37.5,62.5,87.5,125,225,350]\n",
    "\n",
    "cols = ['origin_zone_id', 'destination_zone_id','total_linked_trips'] + cols_dist\n",
    "od_dist = od[cols]\n",
    "\n",
    "od_dist['dist'] = od_dist[cols_dist].mul(dist_mean).sum(1)\n",
    "od_dist = od_dist[['origin_zone_id', 'destination_zone_id','dist']].rename(columns={'origin_zone_id':'origin', 'destination_zone_id':'destination'})\n",
    "od_dist.head()"
   ]
  },
  {
   "cell_type": "code",
   "execution_count": 3,
   "metadata": {},
   "outputs": [
    {
     "name": "stdout",
     "output_type": "stream",
     "text": [
      "50048040\n",
      "50048040\n"
     ]
    },
    {
     "data": {
      "text/html": [
       "<div>\n",
       "<style scoped>\n",
       "    .dataframe tbody tr th:only-of-type {\n",
       "        vertical-align: middle;\n",
       "    }\n",
       "\n",
       "    .dataframe tbody tr th {\n",
       "        vertical-align: top;\n",
       "    }\n",
       "\n",
       "    .dataframe thead th {\n",
       "        text-align: right;\n",
       "    }\n",
       "</style>\n",
       "<table border=\"1\" class=\"dataframe\">\n",
       "  <thead>\n",
       "    <tr style=\"text-align: right;\">\n",
       "      <th></th>\n",
       "      <th>origin</th>\n",
       "      <th>destination</th>\n",
       "      <th>hour</th>\n",
       "      <th>car_share</th>\n",
       "      <th>trips</th>\n",
       "      <th>dist</th>\n",
       "      <th>COUNTY_origin</th>\n",
       "      <th>COUNTY_dest</th>\n",
       "    </tr>\n",
       "  </thead>\n",
       "  <tbody>\n",
       "    <tr>\n",
       "      <th>0</th>\n",
       "      <td>130019501001</td>\n",
       "      <td>130019501001</td>\n",
       "      <td>0</td>\n",
       "      <td>0.632984</td>\n",
       "      <td>14.144894</td>\n",
       "      <td>0.1</td>\n",
       "      <td>13001</td>\n",
       "      <td>13001</td>\n",
       "    </tr>\n",
       "    <tr>\n",
       "      <th>1</th>\n",
       "      <td>130019501001</td>\n",
       "      <td>130019501001</td>\n",
       "      <td>1</td>\n",
       "      <td>0.632984</td>\n",
       "      <td>4.848250</td>\n",
       "      <td>0.1</td>\n",
       "      <td>13001</td>\n",
       "      <td>13001</td>\n",
       "    </tr>\n",
       "    <tr>\n",
       "      <th>2</th>\n",
       "      <td>130019501001</td>\n",
       "      <td>130019501001</td>\n",
       "      <td>2</td>\n",
       "      <td>0.632984</td>\n",
       "      <td>0.100000</td>\n",
       "      <td>0.1</td>\n",
       "      <td>13001</td>\n",
       "      <td>13001</td>\n",
       "    </tr>\n",
       "    <tr>\n",
       "      <th>3</th>\n",
       "      <td>130019501001</td>\n",
       "      <td>130019501001</td>\n",
       "      <td>3</td>\n",
       "      <td>0.632984</td>\n",
       "      <td>0.100000</td>\n",
       "      <td>0.1</td>\n",
       "      <td>13001</td>\n",
       "      <td>13001</td>\n",
       "    </tr>\n",
       "    <tr>\n",
       "      <th>4</th>\n",
       "      <td>130019501001</td>\n",
       "      <td>130019501001</td>\n",
       "      <td>4</td>\n",
       "      <td>0.632984</td>\n",
       "      <td>0.100000</td>\n",
       "      <td>0.1</td>\n",
       "      <td>13001</td>\n",
       "      <td>13001</td>\n",
       "    </tr>\n",
       "  </tbody>\n",
       "</table>\n",
       "</div>"
      ],
      "text/plain": [
       "         origin   destination  hour  car_share      trips  dist COUNTY_origin  \\\n",
       "0  130019501001  130019501001     0   0.632984  14.144894   0.1         13001   \n",
       "1  130019501001  130019501001     1   0.632984   4.848250   0.1         13001   \n",
       "2  130019501001  130019501001     2   0.632984   0.100000   0.1         13001   \n",
       "3  130019501001  130019501001     3   0.632984   0.100000   0.1         13001   \n",
       "4  130019501001  130019501001     4   0.632984   0.100000   0.1         13001   \n",
       "\n",
       "  COUNTY_dest  \n",
       "0       13001  \n",
       "1       13001  \n",
       "2       13001  \n",
       "3       13001  \n",
       "4       13001  "
      ]
     },
     "execution_count": 3,
     "metadata": {},
     "output_type": "execute_result"
    }
   ],
   "source": [
    "od_long = pd.read_feather(data_dir+'OD/GDOT_2019_09_weekday_car_long.feather')\n",
    "od_long = od_long.rename(columns={'origin_zone_id':'origin','destination_zone_id':'destination'})\n",
    "od_long['origin'] = od_long['origin'].astype('int64')\n",
    "od_long['destination'] = od_long['destination'].astype('int64')\n",
    "od_long = od_long.sort_values(['origin','destination','hour'])\n",
    "print(len(od_long))\n",
    "od_long = pd.merge(od_long,od_dist,how='left',on=['origin','destination'])\n",
    "print(len(od_long))\n",
    "\n",
    "od_long['COUNTY_origin'] = od_long['origin'].astype(str).str[:5]\n",
    "od_long['COUNTY_dest'] = od_long['destination'].astype(str).str[:5]\n",
    "od_long.loc[od_long.origin==od_long.destination,'dist'] = 0.1\n",
    "\n",
    "# fillna with 0\n",
    "od_long['trips'] = od_long['trips'].fillna(0)\n",
    "od_long['trips'] = od_long['trips'].replace(0,0.1)\n",
    "\n",
    "od_long.head()"
   ]
  },
  {
   "cell_type": "code",
   "execution_count": 4,
   "metadata": {},
   "outputs": [
    {
     "data": {
      "text/html": [
       "<div>\n",
       "<style scoped>\n",
       "    .dataframe tbody tr th:only-of-type {\n",
       "        vertical-align: middle;\n",
       "    }\n",
       "\n",
       "    .dataframe tbody tr th {\n",
       "        vertical-align: top;\n",
       "    }\n",
       "\n",
       "    .dataframe thead th {\n",
       "        text-align: right;\n",
       "    }\n",
       "</style>\n",
       "<table border=\"1\" class=\"dataframe\">\n",
       "  <thead>\n",
       "    <tr style=\"text-align: right;\">\n",
       "      <th></th>\n",
       "      <th>COUNTY_origin</th>\n",
       "      <th>trip_type</th>\n",
       "      <th>trips</th>\n",
       "      <th>total</th>\n",
       "      <th>share_true</th>\n",
       "    </tr>\n",
       "  </thead>\n",
       "  <tbody>\n",
       "    <tr>\n",
       "      <th>1</th>\n",
       "      <td>13001</td>\n",
       "      <td>Intra-zonal</td>\n",
       "      <td>46036.4</td>\n",
       "      <td>57919.0</td>\n",
       "      <td>0.794841</td>\n",
       "    </tr>\n",
       "    <tr>\n",
       "      <th>3</th>\n",
       "      <td>13003</td>\n",
       "      <td>Intra-zonal</td>\n",
       "      <td>11100.6</td>\n",
       "      <td>18990.4</td>\n",
       "      <td>0.584537</td>\n",
       "    </tr>\n",
       "    <tr>\n",
       "      <th>5</th>\n",
       "      <td>13005</td>\n",
       "      <td>Intra-zonal</td>\n",
       "      <td>30081.3</td>\n",
       "      <td>38471.6</td>\n",
       "      <td>0.781909</td>\n",
       "    </tr>\n",
       "    <tr>\n",
       "      <th>7</th>\n",
       "      <td>13007</td>\n",
       "      <td>Intra-zonal</td>\n",
       "      <td>2385.7</td>\n",
       "      <td>4892.3</td>\n",
       "      <td>0.487644</td>\n",
       "    </tr>\n",
       "    <tr>\n",
       "      <th>9</th>\n",
       "      <td>13009</td>\n",
       "      <td>Intra-zonal</td>\n",
       "      <td>167623.5</td>\n",
       "      <td>196417.7</td>\n",
       "      <td>0.853403</td>\n",
       "    </tr>\n",
       "  </tbody>\n",
       "</table>\n",
       "</div>"
      ],
      "text/plain": [
       "  COUNTY_origin    trip_type     trips     total  share_true\n",
       "1         13001  Intra-zonal   46036.4   57919.0    0.794841\n",
       "3         13003  Intra-zonal   11100.6   18990.4    0.584537\n",
       "5         13005  Intra-zonal   30081.3   38471.6    0.781909\n",
       "7         13007  Intra-zonal    2385.7    4892.3    0.487644\n",
       "9         13009  Intra-zonal  167623.5  196417.7    0.853403"
      ]
     },
     "execution_count": 4,
     "metadata": {},
     "output_type": "execute_result"
    }
   ],
   "source": [
    "county_intra = od_long.copy()\n",
    "county_intra['trip_type'] = 'Inter-zonal'\n",
    "county_intra.loc[county_intra.COUNTY_origin ==county_intra.COUNTY_dest,'trip_type'] = 'Intra-zonal'\n",
    "county_intra = county_intra.groupby(['COUNTY_origin','trip_type']).agg({'trips':'sum'}).reset_index()\n",
    "total = county_intra.groupby(['COUNTY_origin']).agg({'trips':'sum'}).reset_index().rename(columns={'trips':'total'})\n",
    "county_intra = pd.merge(county_intra,total,how='left',on=['COUNTY_origin'])\n",
    "county_intra['share_true'] = county_intra['trips']/county_intra['total']\n",
    "county_intra = county_intra[county_intra.trip_type == 'Intra-zonal']\n",
    "county_intra.head()"
   ]
  },
  {
   "cell_type": "code",
   "execution_count": 5,
   "metadata": {},
   "outputs": [
    {
     "data": {
      "text/html": [
       "<div>\n",
       "<style scoped>\n",
       "    .dataframe tbody tr th:only-of-type {\n",
       "        vertical-align: middle;\n",
       "    }\n",
       "\n",
       "    .dataframe tbody tr th {\n",
       "        vertical-align: top;\n",
       "    }\n",
       "\n",
       "    .dataframe thead th {\n",
       "        text-align: right;\n",
       "    }\n",
       "</style>\n",
       "<table border=\"1\" class=\"dataframe\">\n",
       "  <thead>\n",
       "    <tr style=\"text-align: right;\">\n",
       "      <th></th>\n",
       "      <th>COUNTY_origin</th>\n",
       "      <th>trip_type</th>\n",
       "      <th>trips</th>\n",
       "      <th>total</th>\n",
       "      <th>share_true</th>\n",
       "    </tr>\n",
       "  </thead>\n",
       "  <tbody>\n",
       "    <tr>\n",
       "      <th>57</th>\n",
       "      <td>13059</td>\n",
       "      <td>Intra-zonal</td>\n",
       "      <td>463378.1</td>\n",
       "      <td>588575.7</td>\n",
       "      <td>0.787287</td>\n",
       "    </tr>\n",
       "  </tbody>\n",
       "</table>\n",
       "</div>"
      ],
      "text/plain": [
       "   COUNTY_origin    trip_type     trips     total  share_true\n",
       "57         13059  Intra-zonal  463378.1  588575.7    0.787287"
      ]
     },
     "execution_count": 5,
     "metadata": {},
     "output_type": "execute_result"
    }
   ],
   "source": [
    "county_intra[county_intra.COUNTY_origin=='13059']"
   ]
  },
  {
   "cell_type": "markdown",
   "metadata": {},
   "source": [
    "# Read data"
   ]
  },
  {
   "cell_type": "code",
   "execution_count": 6,
   "metadata": {},
   "outputs": [
    {
     "name": "stdout",
     "output_type": "stream",
     "text": [
      "30591\n",
      "100\n"
     ]
    },
    {
     "data": {
      "text/html": [
       "<div>\n",
       "<style scoped>\n",
       "    .dataframe tbody tr th:only-of-type {\n",
       "        vertical-align: middle;\n",
       "    }\n",
       "\n",
       "    .dataframe tbody tr th {\n",
       "        vertical-align: top;\n",
       "    }\n",
       "\n",
       "    .dataframe thead th {\n",
       "        text-align: right;\n",
       "    }\n",
       "</style>\n",
       "<table border=\"1\" class=\"dataframe\">\n",
       "  <thead>\n",
       "    <tr style=\"text-align: right;\">\n",
       "      <th></th>\n",
       "      <th>trip_id</th>\n",
       "      <th>veh_id</th>\n",
       "      <th>start_time</th>\n",
       "      <th>start_zone</th>\n",
       "      <th>purpose</th>\n",
       "      <th>arrival_time</th>\n",
       "      <th>end_zone</th>\n",
       "      <th>distance</th>\n",
       "      <th>avg_speed</th>\n",
       "      <th>stay_time</th>\n",
       "      <th>zone</th>\n",
       "    </tr>\n",
       "  </thead>\n",
       "  <tbody>\n",
       "    <tr>\n",
       "      <th>0</th>\n",
       "      <td>1</td>\n",
       "      <td>1</td>\n",
       "      <td>6.0</td>\n",
       "      <td>130590001001</td>\n",
       "      <td>work</td>\n",
       "      <td>6.048482</td>\n",
       "      <td>130590021002</td>\n",
       "      <td>1.939272</td>\n",
       "      <td>40</td>\n",
       "      <td>4.951518</td>\n",
       "      <td>trip_chain_130590001001.feather</td>\n",
       "    </tr>\n",
       "    <tr>\n",
       "      <th>1</th>\n",
       "      <td>2</td>\n",
       "      <td>1</td>\n",
       "      <td>11.0</td>\n",
       "      <td>130590021002</td>\n",
       "      <td>work</td>\n",
       "      <td>11.187500</td>\n",
       "      <td>130591305002</td>\n",
       "      <td>7.500000</td>\n",
       "      <td>40</td>\n",
       "      <td>4.312500</td>\n",
       "      <td>trip_chain_130590001001.feather</td>\n",
       "    </tr>\n",
       "    <tr>\n",
       "      <th>2</th>\n",
       "      <td>3</td>\n",
       "      <td>1</td>\n",
       "      <td>15.5</td>\n",
       "      <td>130591305002</td>\n",
       "      <td>home</td>\n",
       "      <td>15.937500</td>\n",
       "      <td>130591405001</td>\n",
       "      <td>17.500000</td>\n",
       "      <td>40</td>\n",
       "      <td>14.062500</td>\n",
       "      <td>trip_chain_130590001001.feather</td>\n",
       "    </tr>\n",
       "    <tr>\n",
       "      <th>3</th>\n",
       "      <td>1</td>\n",
       "      <td>2</td>\n",
       "      <td>6.5</td>\n",
       "      <td>130590001001</td>\n",
       "      <td>work</td>\n",
       "      <td>6.527536</td>\n",
       "      <td>130590004022</td>\n",
       "      <td>1.101430</td>\n",
       "      <td>40</td>\n",
       "      <td>10.972464</td>\n",
       "      <td>trip_chain_130590001001.feather</td>\n",
       "    </tr>\n",
       "    <tr>\n",
       "      <th>4</th>\n",
       "      <td>2</td>\n",
       "      <td>2</td>\n",
       "      <td>17.5</td>\n",
       "      <td>130590004022</td>\n",
       "      <td>home</td>\n",
       "      <td>17.502500</td>\n",
       "      <td>130590004022</td>\n",
       "      <td>0.100000</td>\n",
       "      <td>40</td>\n",
       "      <td>12.497500</td>\n",
       "      <td>trip_chain_130590001001.feather</td>\n",
       "    </tr>\n",
       "  </tbody>\n",
       "</table>\n",
       "</div>"
      ],
      "text/plain": [
       "   trip_id  veh_id  start_time    start_zone purpose  arrival_time  \\\n",
       "0        1       1         6.0  130590001001    work      6.048482   \n",
       "1        2       1        11.0  130590021002    work     11.187500   \n",
       "2        3       1        15.5  130591305002    home     15.937500   \n",
       "3        1       2         6.5  130590001001    work      6.527536   \n",
       "4        2       2        17.5  130590004022    home     17.502500   \n",
       "\n",
       "       end_zone   distance  avg_speed  stay_time  \\\n",
       "0  130590021002   1.939272         40   4.951518   \n",
       "1  130591305002   7.500000         40   4.312500   \n",
       "2  130591405001  17.500000         40  14.062500   \n",
       "3  130590004022   1.101430         40  10.972464   \n",
       "4  130590004022   0.100000         40  12.497500   \n",
       "\n",
       "                              zone  \n",
       "0  trip_chain_130590001001.feather  \n",
       "1  trip_chain_130590001001.feather  \n",
       "2  trip_chain_130590001001.feather  \n",
       "3  trip_chain_130590001001.feather  \n",
       "4  trip_chain_130590001001.feather  "
      ]
     },
     "execution_count": 6,
     "metadata": {},
     "output_type": "execute_result"
    }
   ],
   "source": [
    "zone_dir = data_dir+'OD/Clarke County_v3/'\n",
    "zone_files = os.listdir(zone_dir)\n",
    "total_vehicles = 0\n",
    "total_trips = 0\n",
    "df = pd.DataFrame()\n",
    "for zone_file in zone_files:\n",
    "    if zone_file.endswith('.feather'):\n",
    "        zone_file_path = os.path.join(zone_dir, zone_file)\n",
    "        trajectory_df = pd.read_feather(zone_file_path)        \n",
    "        total_vehicles += len(np.unique(trajectory_df.veh_id))\n",
    "        total_trips += len(trajectory_df.trip_id)\n",
    "        trajectory_df['zone'] = zone_file\n",
    "        df = pd.concat([df, trajectory_df])\n",
    "print(len(df))\n",
    "print(len(np.unique(df.veh_id)))\n",
    "df.head()"
   ]
  },
  {
   "cell_type": "code",
   "execution_count": 7,
   "metadata": {},
   "outputs": [
    {
     "data": {
      "text/plain": [
       "count    9862.000000\n",
       "mean       11.718427\n",
       "std         7.209045\n",
       "min        -1.062500\n",
       "25%         5.312500\n",
       "50%        12.803041\n",
       "75%        16.885430\n",
       "max        23.997500\n",
       "Name: stay_time, dtype: float64"
      ]
     },
     "execution_count": 7,
     "metadata": {},
     "output_type": "execute_result"
    }
   ],
   "source": [
    "df[df.purpose=='home'].stay_time.describe()"
   ]
  },
  {
   "cell_type": "code",
   "execution_count": 8,
   "metadata": {},
   "outputs": [
    {
     "data": {
      "text/plain": [
       "0.32238240005230295"
      ]
     },
     "execution_count": 8,
     "metadata": {},
     "output_type": "execute_result"
    }
   ],
   "source": [
    "len(df[df.purpose=='home'])/len(df)"
   ]
  },
  {
   "cell_type": "code",
   "execution_count": 9,
   "metadata": {},
   "outputs": [
    {
     "data": {
      "text/plain": [
       "distance    26.616187\n",
       "dtype: float64"
      ]
     },
     "execution_count": 9,
     "metadata": {},
     "output_type": "execute_result"
    }
   ],
   "source": [
    "df.groupby(['zone','veh_id']).agg({'distance':'sum'}).mean()"
   ]
  },
  {
   "cell_type": "markdown",
   "metadata": {},
   "source": [
    "# Trip validation against OD"
   ]
  },
  {
   "cell_type": "code",
   "execution_count": 10,
   "metadata": {},
   "outputs": [],
   "source": [
    "zone_files = os.listdir(zone_dir)\n",
    "zone_files\n",
    "bg_list = [int(file.split(\"_\")[2].split(\".\")[0]) for file in zone_files]"
   ]
  },
  {
   "cell_type": "code",
   "execution_count": 11,
   "metadata": {},
   "outputs": [
    {
     "name": "stdout",
     "output_type": "stream",
     "text": [
      "Total Vehicles: 8700\n",
      "Total Trips: 30591\n"
     ]
    }
   ],
   "source": [
    "print(\"Total Vehicles:\", total_vehicles)\n",
    "print(\"Total Trips:\", total_trips)"
   ]
  },
  {
   "cell_type": "code",
   "execution_count": 12,
   "metadata": {},
   "outputs": [
    {
     "data": {
      "text/plain": [
       "389678.2942783848"
      ]
     },
     "execution_count": 12,
     "metadata": {},
     "output_type": "execute_result"
    }
   ],
   "source": [
    "benchmark = od_long[(od_long.origin.isin(bg_list))& (od_long.destination.isin(bg_list))]   \n",
    "benchmark.trips = benchmark.trips * benchmark.car_share\n",
    "benchmark.trips.sum()"
   ]
  },
  {
   "cell_type": "markdown",
   "metadata": {},
   "source": [
    "## NHTS & NHTS OD"
   ]
  },
  {
   "cell_type": "code",
   "execution_count": 13,
   "metadata": {},
   "outputs": [
    {
     "data": {
      "text/html": [
       "<div>\n",
       "<style scoped>\n",
       "    .dataframe tbody tr th:only-of-type {\n",
       "        vertical-align: middle;\n",
       "    }\n",
       "\n",
       "    .dataframe tbody tr th {\n",
       "        vertical-align: top;\n",
       "    }\n",
       "\n",
       "    .dataframe thead th {\n",
       "        text-align: right;\n",
       "    }\n",
       "</style>\n",
       "<table border=\"1\" class=\"dataframe\">\n",
       "  <thead>\n",
       "    <tr style=\"text-align: right;\">\n",
       "      <th></th>\n",
       "      <th>hour</th>\n",
       "      <th>trips</th>\n",
       "      <th>OD trips</th>\n",
       "      <th>numtrips</th>\n",
       "      <th>NHTS trips</th>\n",
       "    </tr>\n",
       "  </thead>\n",
       "  <tbody>\n",
       "    <tr>\n",
       "      <th>0</th>\n",
       "      <td>0</td>\n",
       "      <td>2855.394444</td>\n",
       "      <td>0.732757</td>\n",
       "      <td>103</td>\n",
       "      <td>0.195468</td>\n",
       "    </tr>\n",
       "    <tr>\n",
       "      <th>1</th>\n",
       "      <td>1</td>\n",
       "      <td>2527.221289</td>\n",
       "      <td>0.648540</td>\n",
       "      <td>46</td>\n",
       "      <td>0.087296</td>\n",
       "    </tr>\n",
       "    <tr>\n",
       "      <th>2</th>\n",
       "      <td>2</td>\n",
       "      <td>2163.232539</td>\n",
       "      <td>0.555133</td>\n",
       "      <td>32</td>\n",
       "      <td>0.060728</td>\n",
       "    </tr>\n",
       "    <tr>\n",
       "      <th>3</th>\n",
       "      <td>3</td>\n",
       "      <td>2253.140670</td>\n",
       "      <td>0.578205</td>\n",
       "      <td>17</td>\n",
       "      <td>0.032262</td>\n",
       "    </tr>\n",
       "    <tr>\n",
       "      <th>4</th>\n",
       "      <td>4</td>\n",
       "      <td>2572.859912</td>\n",
       "      <td>0.660252</td>\n",
       "      <td>230</td>\n",
       "      <td>0.436482</td>\n",
       "    </tr>\n",
       "  </tbody>\n",
       "</table>\n",
       "</div>"
      ],
      "text/plain": [
       "   hour        trips  OD trips  numtrips  NHTS trips\n",
       "0     0  2855.394444  0.732757       103    0.195468\n",
       "1     1  2527.221289  0.648540        46    0.087296\n",
       "2     2  2163.232539  0.555133        32    0.060728\n",
       "3     3  2253.140670  0.578205        17    0.032262\n",
       "4     4  2572.859912  0.660252       230    0.436482"
      ]
     },
     "execution_count": 13,
     "metadata": {},
     "output_type": "execute_result"
    }
   ],
   "source": [
    "nhts = pd.read_csv(data_dir2+'nhts/2017/nat_trippub_corr.csv')\n",
    "nhts = nhts[nhts.HHSTATE=='GA'] # in Georgia\n",
    "nhts = nhts[nhts['TRPTRANS'].isin([3,4,5,6,8,9,18])] # POV\n",
    "nhts['numtrips'] = 1\n",
    "nhts['STRTTIME'] = nhts['STRTTIME'].astype(str).str.zfill(4)\n",
    "nhts['hour'] = pd.to_numeric(nhts['STRTTIME'].str[0:2])\n",
    "nhts = nhts.groupby('hour').agg({'numtrips':'sum'}).reset_index()\n",
    "nhts['NHTS trips'] = nhts['numtrips']/nhts['numtrips'].sum()*100\n",
    "\n",
    "od_summary = od_long.copy()\n",
    "od_summary['trips'] = od_summary['trips']*od_summary['car_share']\n",
    "od_summary = od_summary[(od_summary.origin.isin(bg_list))& (od_summary.destination.isin(bg_list))]  \n",
    "od_summary = od_summary.groupby('hour').agg({'trips':'sum'}).reset_index()\n",
    "od_summary['OD trips'] = od_summary['trips']/od_summary['trips'].sum()*100\n",
    "\n",
    "od_summary = pd.merge(od_summary,nhts,on='hour')\n",
    "od_summary.head()"
   ]
  },
  {
   "cell_type": "code",
   "execution_count": 14,
   "metadata": {},
   "outputs": [
    {
     "data": {
      "image/png": "[encoded data removed]",
      "text/plain": [
       "<Figure size 640x480 with 1 Axes>"
      ]
     },
     "metadata": {},
     "output_type": "display_data"
    }
   ],
   "source": [
    "od_melt = od_summary.melt(id_vars='hour', value_vars=['OD trips', 'NHTS trips'], var_name='data source', value_name='trips')\n",
    "sns.barplot(data=od_melt,x='hour',y='trips',hue='data source')\n",
    "plt.ylabel('share of trips (%)')\n",
    "plt.show()"
   ]
  },
  {
   "cell_type": "markdown",
   "metadata": {},
   "source": [
    "## departure time"
   ]
  },
  {
   "cell_type": "code",
   "execution_count": 15,
   "metadata": {},
   "outputs": [
    {
     "data": {
      "image/png": "[encoded data removed]",
      "text/plain": [
       "<Figure size 1000x800 with 3 Axes>"
      ]
     },
     "metadata": {},
     "output_type": "display_data"
    }
   ],
   "source": [
    "fig, axes = plt.subplots(3, 1, figsize=(10, 8))\n",
    "\n",
    "plt.subplot(3, 1, 1)\n",
    "sns.histplot(data=df[df.trip_id == 1], x='start_time', ax=axes[0],stat='probability',bins=24)\n",
    "axes[0].set_ylim(0, 0.3)\n",
    "axes[0].set_xlim(5, 23)\n",
    "plt.xlabel('time of day')\n",
    "plt.title('Departure time distribution of the 1st trip of day')\n",
    "\n",
    "plt.subplot(3, 1, 2)\n",
    "sns.histplot(data=df[df.trip_id == 2], x='start_time', ax=axes[1],stat='probability',bins=24)\n",
    "axes[1].set_ylim(0, 0.3)\n",
    "axes[1].set_xlim(5, 23)\n",
    "plt.xlabel('time of day')\n",
    "plt.title('Departure time distribution of the 2nd trip of day')\n",
    "\n",
    "plt.subplot(3, 1, 3)\n",
    "sns.histplot(data=df[df.trip_id == 3], x='start_time', ax=axes[2],stat='probability',bins=24)\n",
    "axes[2].set_ylim(0, 0.3)\n",
    "axes[2].set_xlim(5, 23)\n",
    "plt.xlabel('time of day')\n",
    "plt.title('Departure time distribution of the 3rd trip of day')\n",
    "\n",
    "plt.tight_layout()  # Ensures proper layout of subplots\n",
    "plt.show()"
   ]
  },
  {
   "cell_type": "code",
   "execution_count": 16,
   "metadata": {},
   "outputs": [
    {
     "data": {
      "image/png": "[encoded data removed]",
      "text/plain": [
       "<Figure size 640x480 with 1 Axes>"
      ]
     },
     "metadata": {},
     "output_type": "display_data"
    }
   ],
   "source": [
    "# simulation total out trips\n",
    "total_estimate = df.copy()\n",
    "total_estimate['COUNTY_origin'] = total_estimate['start_zone'].astype(str).str[:5]\n",
    "total_estimate['COUNTY_dest'] = total_estimate['end_zone'].astype(str).str[:5]\n",
    "total_estimate['hour'] = total_estimate['start_time'].astype(int)\n",
    "\n",
    "# seelct zones to compare\n",
    "# total_estimate = total_estimate[(total_estimate.COUNTY_origin=='13059')&(total_estimate.COUNTY_dest=='13059')]\n",
    "total_estimate = total_estimate[(total_estimate.start_zone.isin(bg_list))& (total_estimate.end_zone.isin(bg_list))] \n",
    "\n",
    "total_estimate = total_estimate.groupby(['start_zone','COUNTY_origin','hour','purpose']).agg({'trip_id':'count'}).reset_index()\n",
    "total_estimate = total_estimate.rename(columns={'start_zone':'origin'})\n",
    "\n",
    "# calibrate simulation demand\n",
    "total_estimate['trip_simulation'] = total_estimate['trip_id'] # * total_estimate['base_veh'] /100 * 1.2\n",
    "\n",
    "total_estimate = total_estimate.groupby(['hour','purpose']).agg({'trip_simulation':'sum'}).reset_index()\n",
    "sns.barplot(data=total_estimate ,x='hour',y='trip_simulation',errorbar='se') # ,hue='purpose'\n",
    "plt.ylabel('number of trips')\n",
    "plt.show()"
   ]
  },
  {
   "cell_type": "markdown",
   "metadata": {},
   "source": [
    "## Total in trips"
   ]
  },
  {
   "cell_type": "code",
   "execution_count": 17,
   "metadata": {},
   "outputs": [
    {
     "data": {
      "text/html": [
       "<div>\n",
       "<style scoped>\n",
       "    .dataframe tbody tr th:only-of-type {\n",
       "        vertical-align: middle;\n",
       "    }\n",
       "\n",
       "    .dataframe tbody tr th {\n",
       "        vertical-align: top;\n",
       "    }\n",
       "\n",
       "    .dataframe thead th {\n",
       "        text-align: right;\n",
       "    }\n",
       "</style>\n",
       "<table border=\"1\" class=\"dataframe\">\n",
       "  <thead>\n",
       "    <tr style=\"text-align: right;\">\n",
       "      <th></th>\n",
       "      <th>origin</th>\n",
       "      <th>COUNTY_origin</th>\n",
       "      <th>trips</th>\n",
       "    </tr>\n",
       "  </thead>\n",
       "  <tbody>\n",
       "    <tr>\n",
       "      <th>0</th>\n",
       "      <td>130590001001</td>\n",
       "      <td>13059</td>\n",
       "      <td>17716.194537</td>\n",
       "    </tr>\n",
       "    <tr>\n",
       "      <th>1</th>\n",
       "      <td>130590001002</td>\n",
       "      <td>13059</td>\n",
       "      <td>13968.257068</td>\n",
       "    </tr>\n",
       "    <tr>\n",
       "      <th>2</th>\n",
       "      <td>130590004011</td>\n",
       "      <td>13059</td>\n",
       "      <td>10144.383722</td>\n",
       "    </tr>\n",
       "    <tr>\n",
       "      <th>3</th>\n",
       "      <td>130590004021</td>\n",
       "      <td>13059</td>\n",
       "      <td>19004.822259</td>\n",
       "    </tr>\n",
       "    <tr>\n",
       "      <th>4</th>\n",
       "      <td>130590004022</td>\n",
       "      <td>13059</td>\n",
       "      <td>43117.193519</td>\n",
       "    </tr>\n",
       "  </tbody>\n",
       "</table>\n",
       "</div>"
      ],
      "text/plain": [
       "         origin COUNTY_origin         trips\n",
       "0  130590001001         13059  17716.194537\n",
       "1  130590001002         13059  13968.257068\n",
       "2  130590004011         13059  10144.383722\n",
       "3  130590004021         13059  19004.822259\n",
       "4  130590004022         13059  43117.193519"
      ]
     },
     "execution_count": 17,
     "metadata": {},
     "output_type": "execute_result"
    }
   ],
   "source": [
    "# determine base population \n",
    "benchmark = od_long[(od_long.COUNTY_origin=='13059')& (od_long.COUNTY_dest=='13059')] #  \n",
    "benchmark.trips = benchmark.trips * benchmark.car_share\n",
    "benchmark = benchmark.groupby(['origin','COUNTY_origin']).agg({'trips':'sum'}).reset_index()\n",
    "benchmark.head()"
   ]
  },
  {
   "cell_type": "code",
   "execution_count": 18,
   "metadata": {},
   "outputs": [
    {
     "name": "stdout",
     "output_type": "stream",
     "text": [
      "total trips: 52694\n",
      "total persons: 13526\n"
     ]
    }
   ],
   "source": [
    "# nhts\n",
    "nhts = pd.read_csv(data_dir2+'nhts/2017/nat_trippub_corr.csv')\n",
    "nhts = nhts[nhts.HHSTATE=='GA'] # in Georgia\n",
    "nhts = nhts[nhts['TRPTRANS'].isin([3,4,5,6,8,9,18])] # POV\n",
    "nhts['numtrips'] = 1\n",
    "print('total trips: '+str(len(nhts)))\n",
    "persons = nhts.groupby(['HOUSEID','PERSONID']).count()\n",
    "print('total persons: '+str(len(persons)))\n",
    "nhts['STRTTIME'] = nhts['STRTTIME'].astype(str).str.zfill(4)\n",
    "nhts['hour'] = pd.to_numeric(nhts['STRTTIME'].str[0:2])\n",
    "nhts['minute'] = pd.to_numeric(nhts['STRTTIME'].str[2:4])\n",
    "nhts['start_time'] = nhts['hour']+nhts['minute']/60\n",
    "nhts = nhts[~((nhts.WHYFROM==7) | (nhts.WHYTO==7))]\n",
    "origin_map = {(1,2):'home',(3,4,8):'work',(-9,-8,-7):'not reported'}\n",
    "d = {k: v for tup, v in origin_map.items() for k in tup}\n",
    "nhts['purpose'] = nhts['WHYTO'].map(d).fillna('other')\n",
    "nhts = nhts[~nhts.purpose.isin(['not reported'])]\n",
    "nhts = nhts[nhts.TRVLCMIN>0]\n",
    "nhts = nhts.sort_values(['HOUSEID','PERSONID','start_time'])\n",
    "nhts['rank'] = nhts.groupby(['HOUSEID','PERSONID']).cumcount()+1 # starting from 1\n",
    "nhts = nhts[nhts['rank'] == 1]"
   ]
  },
  {
   "cell_type": "code",
   "execution_count": 19,
   "metadata": {},
   "outputs": [
    {
     "name": "stdout",
     "output_type": "stream",
     "text": [
      "5533\n",
      "Total number of vehicles: 83317.6297933865\n"
     ]
    },
    {
     "data": {
      "text/html": [
       "<div>\n",
       "<style scoped>\n",
       "    .dataframe tbody tr th:only-of-type {\n",
       "        vertical-align: middle;\n",
       "    }\n",
       "\n",
       "    .dataframe tbody tr th {\n",
       "        vertical-align: top;\n",
       "    }\n",
       "\n",
       "    .dataframe thead th {\n",
       "        text-align: right;\n",
       "    }\n",
       "</style>\n",
       "<table border=\"1\" class=\"dataframe\">\n",
       "  <thead>\n",
       "    <tr style=\"text-align: right;\">\n",
       "      <th></th>\n",
       "      <th>origin</th>\n",
       "      <th>pop</th>\n",
       "      <th>COUNTY_origin</th>\n",
       "      <th>base_veh</th>\n",
       "    </tr>\n",
       "  </thead>\n",
       "  <tbody>\n",
       "    <tr>\n",
       "      <th>883</th>\n",
       "      <td>130590001001</td>\n",
       "      <td>2285</td>\n",
       "      <td>13059</td>\n",
       "      <td>1508.851002</td>\n",
       "    </tr>\n",
       "    <tr>\n",
       "      <th>884</th>\n",
       "      <td>130590004011</td>\n",
       "      <td>1410</td>\n",
       "      <td>13059</td>\n",
       "      <td>931.063419</td>\n",
       "    </tr>\n",
       "    <tr>\n",
       "      <th>885</th>\n",
       "      <td>130590004021</td>\n",
       "      <td>2106</td>\n",
       "      <td>13059</td>\n",
       "      <td>1390.652171</td>\n",
       "    </tr>\n",
       "    <tr>\n",
       "      <th>886</th>\n",
       "      <td>130590004022</td>\n",
       "      <td>3506</td>\n",
       "      <td>13059</td>\n",
       "      <td>2315.112304</td>\n",
       "    </tr>\n",
       "    <tr>\n",
       "      <th>887</th>\n",
       "      <td>130590004023</td>\n",
       "      <td>2740</td>\n",
       "      <td>13059</td>\n",
       "      <td>1809.300546</td>\n",
       "    </tr>\n",
       "  </tbody>\n",
       "</table>\n",
       "</div>"
      ],
      "text/plain": [
       "           origin   pop COUNTY_origin     base_veh\n",
       "883  130590001001  2285         13059  1508.851002\n",
       "884  130590004011  1410         13059   931.063419\n",
       "885  130590004021  2106         13059  1390.652171\n",
       "886  130590004022  3506         13059  2315.112304\n",
       "887  130590004023  2740         13059  1809.300546"
      ]
     },
     "execution_count": 19,
     "metadata": {},
     "output_type": "execute_result"
    }
   ],
   "source": [
    "# determine base population based on census\n",
    "# bg pop\n",
    "zone_population = pd.read_csv(data_dir+'Census/ACSDT5Y2019.B01001 GA BG/ACSDT5Y2019.B01001-Data.csv')\n",
    "zone_population = zone_population.loc[1:,['GEO_ID','B01001_001E']]\n",
    "zone_population['GEO_ID'] = zone_population['GEO_ID'].str[9:]\n",
    "zone_population.columns = ['origin','pop']\n",
    "\n",
    "zone_population['COUNTY_origin'] = zone_population['origin'].str[:5]\n",
    "zone_population['pop'] = pd.to_numeric(zone_population['pop'])\n",
    "zone_population['origin'] = pd.to_numeric(zone_population['origin'])\n",
    "print(len(zone_population))\n",
    "zone_population.head()\n",
    "\n",
    "# county pop\n",
    "county_population = zone_population.groupby('COUNTY_origin').agg({'pop':'sum'}).reset_index()\n",
    "county_population.head()\n",
    "\n",
    "# calculate veh\n",
    "nhts_total = nhts['WTTRDFIN'].sum()/365\n",
    "nhts_total_059 = nhts_total * county_population.loc[county_population.COUNTY_origin=='13059','pop'].values[0]/county_population['pop'].sum()\n",
    "bg_base = zone_population[zone_population.COUNTY_origin=='13059']\n",
    "bg_base['base_veh'] = bg_base['pop']/bg_base['pop'].sum() * nhts_total_059\n",
    "print('Total number of vehicles: '+str(bg_base['base_veh'].sum()))\n",
    "bg_base.head()"
   ]
  },
  {
   "cell_type": "markdown",
   "metadata": {},
   "source": [
    "### bg (od pair) level"
   ]
  },
  {
   "cell_type": "code",
   "execution_count": 125,
   "metadata": {},
   "outputs": [
    {
     "name": "stdout",
     "output_type": "stream",
     "text": [
      "2836\n",
      "207707.72904097848\n",
      "232920.33030437023\n"
     ]
    },
    {
     "data": {
      "text/html": [
       "<div>\n",
       "<style scoped>\n",
       "    .dataframe tbody tr th:only-of-type {\n",
       "        vertical-align: middle;\n",
       "    }\n",
       "\n",
       "    .dataframe tbody tr th {\n",
       "        vertical-align: top;\n",
       "    }\n",
       "\n",
       "    .dataframe thead th {\n",
       "        text-align: right;\n",
       "    }\n",
       "</style>\n",
       "<table border=\"1\" class=\"dataframe\">\n",
       "  <thead>\n",
       "    <tr style=\"text-align: right;\">\n",
       "      <th></th>\n",
       "      <th>origin</th>\n",
       "      <th>destination</th>\n",
       "      <th>trip_id</th>\n",
       "      <th>pop</th>\n",
       "      <th>COUNTY_origin</th>\n",
       "      <th>base_veh</th>\n",
       "      <th>trip_simulation</th>\n",
       "      <th>trips</th>\n",
       "      <th>diff</th>\n",
       "      <th>diff_pct</th>\n",
       "    </tr>\n",
       "  </thead>\n",
       "  <tbody>\n",
       "    <tr>\n",
       "      <th>159</th>\n",
       "      <td>130590004021</td>\n",
       "      <td>130591508004</td>\n",
       "      <td>2</td>\n",
       "      <td>2106</td>\n",
       "      <td>13059</td>\n",
       "      <td>1390.652171</td>\n",
       "      <td>33.375652</td>\n",
       "      <td>1.000000</td>\n",
       "      <td>0.023281</td>\n",
       "      <td>4902.960262</td>\n",
       "    </tr>\n",
       "    <tr>\n",
       "      <th>1616</th>\n",
       "      <td>130591305002</td>\n",
       "      <td>130591403003</td>\n",
       "      <td>3</td>\n",
       "      <td>1174</td>\n",
       "      <td>13059</td>\n",
       "      <td>775.225854</td>\n",
       "      <td>27.908131</td>\n",
       "      <td>0.905063</td>\n",
       "      <td>0.034833</td>\n",
       "      <td>4518.288934</td>\n",
       "    </tr>\n",
       "    <tr>\n",
       "      <th>1257</th>\n",
       "      <td>130590302002</td>\n",
       "      <td>130591406004</td>\n",
       "      <td>2</td>\n",
       "      <td>1604</td>\n",
       "      <td>13059</td>\n",
       "      <td>1059.167181</td>\n",
       "      <td>25.420012</td>\n",
       "      <td>1.000000</td>\n",
       "      <td>0.023056</td>\n",
       "      <td>3698.160262</td>\n",
       "    </tr>\n",
       "    <tr>\n",
       "      <th>1020</th>\n",
       "      <td>130590021001</td>\n",
       "      <td>130590301022</td>\n",
       "      <td>1</td>\n",
       "      <td>3177</td>\n",
       "      <td>13059</td>\n",
       "      <td>2097.864173</td>\n",
       "      <td>25.174370</td>\n",
       "      <td>1.000000</td>\n",
       "      <td>0.011523</td>\n",
       "      <td>3660.960262</td>\n",
       "    </tr>\n",
       "    <tr>\n",
       "      <th>1706</th>\n",
       "      <td>130591403002</td>\n",
       "      <td>130590018002</td>\n",
       "      <td>2</td>\n",
       "      <td>1307</td>\n",
       "      <td>13059</td>\n",
       "      <td>863.049567</td>\n",
       "      <td>20.713190</td>\n",
       "      <td>1.000000</td>\n",
       "      <td>0.022841</td>\n",
       "      <td>2985.360262</td>\n",
       "    </tr>\n",
       "  </tbody>\n",
       "</table>\n",
       "</div>"
      ],
      "text/plain": [
       "            origin   destination  trip_id   pop COUNTY_origin     base_veh  \\\n",
       "159   130590004021  130591508004        2  2106         13059  1390.652171   \n",
       "1616  130591305002  130591403003        3  1174         13059   775.225854   \n",
       "1257  130590302002  130591406004        2  1604         13059  1059.167181   \n",
       "1020  130590021001  130590301022        1  3177         13059  2097.864173   \n",
       "1706  130591403002  130590018002        2  1307         13059   863.049567   \n",
       "\n",
       "      trip_simulation     trips      diff     diff_pct  \n",
       "159         33.375652  1.000000  0.023281  4902.960262  \n",
       "1616        27.908131  0.905063  0.034833  4518.288934  \n",
       "1257        25.420012  1.000000  0.023056  3698.160262  \n",
       "1020        25.174370  1.000000  0.011523  3660.960262  \n",
       "1706        20.713190  1.000000  0.022841  2985.360262  "
      ]
     },
     "execution_count": 125,
     "metadata": {},
     "output_type": "execute_result"
    }
   ],
   "source": [
    "# actual total out trips\n",
    "# benchmark = od_long[(od_long.COUNTY_origin=='13059')& (od_long.COUNTY_dest=='13059')]  \n",
    "benchmark = od_long[(od_long.origin.isin(bg_list))& (od_long.destination.isin(bg_list))]  \n",
    "benchmark.trips = benchmark.trips * benchmark.car_share # * 0.8\n",
    "benchmark = benchmark.groupby(['origin','destination']).agg({'trips':'sum'}).reset_index()\n",
    "benchmark.head()\n",
    "\n",
    "# simulation total out trips\n",
    "total_estimate = df.copy()\n",
    "total_estimate['COUNTY_origin'] = total_estimate['start_zone'].astype(str).str[:5]\n",
    "total_estimate['COUNTY_dest'] = total_estimate['end_zone'].astype(str).str[:5]\n",
    "\n",
    "# # seelct zones to compare\n",
    "# total_estimate = total_estimate[total_estimate.start_zone==130591406001]\n",
    "total_estimate = total_estimate[(total_estimate.start_zone.isin(bg_list))& (total_estimate.end_zone.isin(bg_list))] \n",
    "\n",
    "total_estimate = total_estimate.groupby(['start_zone','end_zone']).agg({'trip_id':'count'}).reset_index()\n",
    "total_estimate = total_estimate.rename(columns={'start_zone':'origin','end_zone':'destination'})\n",
    "\n",
    "total_estimate = pd.merge(total_estimate,bg_base,on=['origin'])\n",
    "total_estimate['trip_simulation'] = total_estimate['trip_id'] * total_estimate['base_veh'] * 1.2 /100\n",
    "total_estimate = pd.merge(total_estimate,benchmark,on=['origin','destination'])\n",
    "total_estimate['trips'] = total_estimate['trips'].replace(0,1)\n",
    "\n",
    "total_estimate['diff'] = total_estimate['trip_simulation']/total_estimate['base_veh']-total_estimate['trips']/total_estimate['base_veh']\n",
    "total_estimate['diff_pct'] = np.abs(total_estimate['diff'])/(total_estimate['trips']/total_estimate['pop'])*100\n",
    "\n",
    "total_estimate = total_estimate[(total_estimate.trips<=6000)&(total_estimate.trip_simulation<=6000)]\n",
    "# total_estimate = total_estimate[total_estimate['pop']>0]\n",
    "total_estimate = total_estimate.sort_values('diff_pct',ascending=False)\n",
    "print(len(total_estimate))\n",
    "print(np.sum(total_estimate.trip_simulation))\n",
    "print(np.sum(total_estimate.trips))\n",
    "total_estimate.head()"
   ]
  },
  {
   "cell_type": "code",
   "execution_count": 112,
   "metadata": {},
   "outputs": [
    {
     "data": {
      "text/plain": [
       "10.824746694143911"
      ]
     },
     "execution_count": 112,
     "metadata": {},
     "output_type": "execute_result"
    }
   ],
   "source": [
    "(232920-207707)/232920*100"
   ]
  },
  {
   "cell_type": "code",
   "execution_count": 126,
   "metadata": {},
   "outputs": [
    {
     "data": {
      "text/plain": [
       "0.03552928276876617"
      ]
     },
     "execution_count": 126,
     "metadata": {},
     "output_type": "execute_result"
    }
   ],
   "source": [
    "np.mean(np.abs(total_estimate['diff']))"
   ]
  },
  {
   "cell_type": "code",
   "execution_count": 99,
   "metadata": {},
   "outputs": [
    {
     "data": {
      "text/plain": [
       "Text(0.5, 1.0, 'Trip validation for Block Group-Block Group OD trips')"
      ]
     },
     "execution_count": 99,
     "metadata": {},
     "output_type": "execute_result"
    },
    {
     "data": {
      "image/png": "[encoded data removed]",
      "text/plain": [
       "<Figure size 640x480 with 1 Axes>"
      ]
     },
     "metadata": {},
     "output_type": "display_data"
    }
   ],
   "source": [
    "sns.scatterplot(data=total_estimate,x='trip_simulation',y='trips', marker=\"o\",s = 10 ,\n",
    "                color='#69b3a2',edgecolor='none')\n",
    "sns.lineplot(data=total_estimate,x='trip_simulation',y='trip_simulation',color='black', linestyle='--')\n",
    "plt.xlabel('number of trips (simulation)')\n",
    "plt.ylabel('number of trips (actual)')\n",
    "from scipy.stats import linregress\n",
    "\n",
    "# Calculate regression coefficients and p-values\n",
    "slope, intercept, r_value, p_value, std_err = linregress(total_estimate['trip_simulation'], total_estimate['trips'])\n",
    "coefficient_text = f\"coefficient: {slope:.2f}\"\n",
    "p_value_text = f\"p-value = {p_value:.3f}\"\n",
    "plt.text(0.5, 0.8, coefficient_text, ha='center', va='center', transform=plt.gca().transAxes, fontsize=10)\n",
    "plt.text(0.5, 0.75, p_value_text, ha='center', va='center', transform=plt.gca().transAxes, fontsize=10)\n",
    "\n",
    "# plt.xlim(0,1000)\n",
    "# plt.ylim(0,1000)\n",
    "plt.title(\"Trip validation for Block Group-Block Group OD trips\")"
   ]
  },
  {
   "cell_type": "markdown",
   "metadata": {},
   "source": [
    "### hour"
   ]
  },
  {
   "cell_type": "code",
   "execution_count": 100,
   "metadata": {},
   "outputs": [
    {
     "data": {
      "image/png": "[encoded data removed]",
      "text/plain": [
       "<Figure size 640x480 with 1 Axes>"
      ]
     },
     "metadata": {},
     "output_type": "display_data"
    }
   ],
   "source": [
    "# actual total out trips\n",
    "# benchmark = od_long[(od_long.COUNTY_origin=='13059')& (od_long.COUNTY_dest=='13059')]  \n",
    "benchmark = od_long[(od_long.origin.isin(bg_list))& (od_long.destination.isin(bg_list))]  \n",
    "benchmark.trips = benchmark.trips * benchmark.car_share\n",
    "benchmark = benchmark.groupby(['origin','COUNTY_origin','hour']).agg({'trips':'sum'}).reset_index()\n",
    "\n",
    "# simulation total out trips\n",
    "total_estimate = df.copy()\n",
    "total_estimate['COUNTY_origin'] = total_estimate['start_zone'].astype(str).str[:5]\n",
    "total_estimate['COUNTY_dest'] = total_estimate['end_zone'].astype(str).str[:5]\n",
    "total_estimate['hour'] = total_estimate['start_time'].astype(int)\n",
    "\n",
    "# seelct zones to compare\n",
    "# total_estimate = total_estimate[(total_estimate.COUNTY_origin=='13059')&(total_estimate.COUNTY_dest=='13059')]\n",
    "total_estimate = total_estimate[(total_estimate.start_zone.isin(bg_list))& (total_estimate.end_zone.isin(bg_list))] \n",
    "\n",
    "total_estimate = total_estimate.groupby(['start_zone','COUNTY_origin','hour']).agg({'trip_id':'count'}).reset_index()\n",
    "total_estimate = total_estimate.rename(columns={'start_zone':'origin'})\n",
    "\n",
    "# calibrate simulation demand\n",
    "total_estimate = pd.merge(total_estimate,bg_base,on=['origin','COUNTY_origin'])\n",
    "total_estimate['trip_simulation'] = total_estimate['trip_id'] * total_estimate['base_veh'] /100 * 1.2\n",
    "total_estimate = pd.merge(total_estimate,benchmark,on=['origin','COUNTY_origin','hour'])\n",
    "\n",
    "total_estimate['diff'] = total_estimate['trip_simulation']-total_estimate['trips']\n",
    "total_estimate['diff_pct'] = np.abs(total_estimate['diff'])/total_estimate['trips']*100\n",
    "\n",
    "total_estimate.head()\n",
    "total_estimate.sort_values('diff_pct',ascending=False).head(8)\n",
    "\n",
    "od_melt = total_estimate.melt(id_vars='hour', value_vars=['trips', 'trip_simulation'], var_name='data source', value_name='trips')\n",
    "sns.barplot(data=od_melt,x='hour',y='trips',hue='data source',errorbar='se')\n",
    "plt.ylabel('number of trips')\n",
    "plt.show()"
   ]
  },
  {
   "cell_type": "code",
   "execution_count": 121,
   "metadata": {},
   "outputs": [
    {
     "data": {
      "text/html": [
       "<div>\n",
       "<style scoped>\n",
       "    .dataframe tbody tr th:only-of-type {\n",
       "        vertical-align: middle;\n",
       "    }\n",
       "\n",
       "    .dataframe tbody tr th {\n",
       "        vertical-align: top;\n",
       "    }\n",
       "\n",
       "    .dataframe thead th {\n",
       "        text-align: right;\n",
       "    }\n",
       "</style>\n",
       "<table border=\"1\" class=\"dataframe\">\n",
       "  <thead>\n",
       "    <tr style=\"text-align: right;\">\n",
       "      <th></th>\n",
       "      <th>hour</th>\n",
       "      <th>trip_simulation</th>\n",
       "      <th>trips</th>\n",
       "      <th>simulation trips</th>\n",
       "      <th>OD trips</th>\n",
       "      <th>diff</th>\n",
       "      <th>diff_pct</th>\n",
       "    </tr>\n",
       "  </thead>\n",
       "  <tbody>\n",
       "    <tr>\n",
       "      <th>1</th>\n",
       "      <td>1</td>\n",
       "      <td>314.960926</td>\n",
       "      <td>600.548706</td>\n",
       "      <td>0.128386</td>\n",
       "      <td>0.221289</td>\n",
       "      <td>-0.092903</td>\n",
       "      <td>41.982572</td>\n",
       "    </tr>\n",
       "    <tr>\n",
       "      <th>20</th>\n",
       "      <td>20</td>\n",
       "      <td>8092.525904</td>\n",
       "      <td>6345.091763</td>\n",
       "      <td>3.298719</td>\n",
       "      <td>2.338025</td>\n",
       "      <td>0.960694</td>\n",
       "      <td>41.089997</td>\n",
       "    </tr>\n",
       "    <tr>\n",
       "      <th>22</th>\n",
       "      <td>22</td>\n",
       "      <td>2138.458538</td>\n",
       "      <td>3499.732005</td>\n",
       "      <td>0.871690</td>\n",
       "      <td>1.289573</td>\n",
       "      <td>-0.417883</td>\n",
       "      <td>32.404766</td>\n",
       "    </tr>\n",
       "    <tr>\n",
       "      <th>23</th>\n",
       "      <td>23</td>\n",
       "      <td>1737.126622</td>\n",
       "      <td>2829.962116</td>\n",
       "      <td>0.708097</td>\n",
       "      <td>1.042778</td>\n",
       "      <td>-0.334681</td>\n",
       "      <td>32.095136</td>\n",
       "    </tr>\n",
       "    <tr>\n",
       "      <th>0</th>\n",
       "      <td>0</td>\n",
       "      <td>819.462592</td>\n",
       "      <td>1309.129763</td>\n",
       "      <td>0.334034</td>\n",
       "      <td>0.482385</td>\n",
       "      <td>-0.148351</td>\n",
       "      <td>30.753717</td>\n",
       "    </tr>\n",
       "    <tr>\n",
       "      <th>7</th>\n",
       "      <td>7</td>\n",
       "      <td>16414.156800</td>\n",
       "      <td>14096.086256</td>\n",
       "      <td>6.690826</td>\n",
       "      <td>5.194093</td>\n",
       "      <td>1.496734</td>\n",
       "      <td>28.816075</td>\n",
       "    </tr>\n",
       "    <tr>\n",
       "      <th>19</th>\n",
       "      <td>19</td>\n",
       "      <td>14275.167358</td>\n",
       "      <td>12581.645754</td>\n",
       "      <td>5.818920</td>\n",
       "      <td>4.636055</td>\n",
       "      <td>1.182865</td>\n",
       "      <td>25.514467</td>\n",
       "    </tr>\n",
       "    <tr>\n",
       "      <th>16</th>\n",
       "      <td>16</td>\n",
       "      <td>20648.617383</td>\n",
       "      <td>18694.129557</td>\n",
       "      <td>8.416900</td>\n",
       "      <td>6.888369</td>\n",
       "      <td>1.528531</td>\n",
       "      <td>22.190027</td>\n",
       "    </tr>\n",
       "  </tbody>\n",
       "</table>\n",
       "</div>"
      ],
      "text/plain": [
       "    hour  trip_simulation         trips  simulation trips  OD trips      diff  \\\n",
       "1      1       314.960926    600.548706          0.128386  0.221289 -0.092903   \n",
       "20    20      8092.525904   6345.091763          3.298719  2.338025  0.960694   \n",
       "22    22      2138.458538   3499.732005          0.871690  1.289573 -0.417883   \n",
       "23    23      1737.126622   2829.962116          0.708097  1.042778 -0.334681   \n",
       "0      0       819.462592   1309.129763          0.334034  0.482385 -0.148351   \n",
       "7      7     16414.156800  14096.086256          6.690826  5.194093  1.496734   \n",
       "19    19     14275.167358  12581.645754          5.818920  4.636055  1.182865   \n",
       "16    16     20648.617383  18694.129557          8.416900  6.888369  1.528531   \n",
       "\n",
       "     diff_pct  \n",
       "1   41.982572  \n",
       "20  41.089997  \n",
       "22  32.404766  \n",
       "23  32.095136  \n",
       "0   30.753717  \n",
       "7   28.816075  \n",
       "19  25.514467  \n",
       "16  22.190027  "
      ]
     },
     "execution_count": 121,
     "metadata": {},
     "output_type": "execute_result"
    }
   ],
   "source": [
    "# actual total out trips\n",
    "# benchmark = od_long[(od_long.COUNTY_origin=='13059')& (od_long.COUNTY_dest=='13059')]  \n",
    "benchmark = od_long[(od_long.origin.isin(bg_list))& (od_long.destination.isin(bg_list))]  \n",
    "benchmark.trips = benchmark.trips * benchmark.car_share\n",
    "benchmark = benchmark.groupby(['origin','COUNTY_origin','hour']).agg({'trips':'sum'}).reset_index()\n",
    "\n",
    "# simulation total out trips\n",
    "total_estimate = df.copy()\n",
    "total_estimate['COUNTY_origin'] = total_estimate['start_zone'].astype(str).str[:5]\n",
    "total_estimate['COUNTY_dest'] = total_estimate['end_zone'].astype(str).str[:5]\n",
    "total_estimate['hour'] = total_estimate['start_time'].astype(int)\n",
    "\n",
    "# seelct zones to compare\n",
    "# total_estimate = total_estimate[(total_estimate.COUNTY_origin=='13059')&(total_estimate.COUNTY_dest=='13059')]\n",
    "total_estimate = total_estimate[(total_estimate.start_zone.isin(bg_list))& (total_estimate.end_zone.isin(bg_list))] \n",
    "\n",
    "total_estimate = total_estimate.groupby(['start_zone','COUNTY_origin','hour']).agg({'trip_id':'count'}).reset_index()\n",
    "total_estimate = total_estimate.rename(columns={'start_zone':'origin'})\n",
    "\n",
    "# calibrate simulation demand\n",
    "total_estimate = pd.merge(total_estimate,bg_base,on=['origin','COUNTY_origin'])\n",
    "total_estimate['trip_simulation'] = total_estimate['trip_id'] * total_estimate['base_veh'] /100 * 1.2\n",
    "total_estimate = pd.merge(total_estimate,benchmark,on=['origin','COUNTY_origin','hour'])\n",
    "\n",
    "total_estimate = total_estimate.groupby(['hour']).agg({'trip_simulation':'sum','trips':'sum'}).reset_index()\n",
    "total_estimate['simulation trips'] = total_estimate['trip_simulation']/total_estimate['trip_simulation'].sum()*100\n",
    "total_estimate['OD trips'] = total_estimate['trips']/total_estimate['trips'].sum()*100\n",
    "\n",
    "total_estimate['diff'] = total_estimate['simulation trips']-total_estimate['OD trips']\n",
    "total_estimate['diff_pct'] = np.abs(total_estimate['diff'])/total_estimate['OD trips']*100\n",
    "\n",
    "# total_estimate = total_estimate[total_estimate.trips<=10000]\n",
    "total_estimate.sort_values('diff_pct',ascending=False).head(8)"
   ]
  },
  {
   "cell_type": "code",
   "execution_count": 122,
   "metadata": {},
   "outputs": [
    {
     "name": "stdout",
     "output_type": "stream",
     "text": [
      "18.192475621335458\n"
     ]
    },
    {
     "data": {
      "image/png": "[encoded data removed]",
      "text/plain": [
       "<Figure size 640x480 with 1 Axes>"
      ]
     },
     "metadata": {},
     "output_type": "display_data"
    }
   ],
   "source": [
    "print(np.mean(np.abs(total_estimate['diff_pct'])))\n",
    "od_melt = total_estimate.melt(id_vars='hour', value_vars=['OD trips', 'simulation trips'], var_name='source', value_name='trips')\n",
    "\n",
    "sns.barplot(data=od_melt,x='hour',y='trips',hue='source')\n",
    "plt.ylabel('Share of trips (%)')\n",
    "plt.show()"
   ]
  },
  {
   "cell_type": "markdown",
   "metadata": {},
   "source": [
    "### county (origin) level"
   ]
  },
  {
   "cell_type": "code",
   "execution_count": 21,
   "metadata": {},
   "outputs": [
    {
     "data": {
      "text/plain": [
       "87"
      ]
     },
     "execution_count": 21,
     "metadata": {},
     "output_type": "execute_result"
    }
   ],
   "source": [
    "len(bg_list)"
   ]
  },
  {
   "cell_type": "code",
   "execution_count": 113,
   "metadata": {},
   "outputs": [
    {
     "name": "stdout",
     "output_type": "stream",
     "text": [
      "62884.41954479286\n"
     ]
    },
    {
     "data": {
      "text/html": [
       "<div>\n",
       "<style scoped>\n",
       "    .dataframe tbody tr th:only-of-type {\n",
       "        vertical-align: middle;\n",
       "    }\n",
       "\n",
       "    .dataframe tbody tr th {\n",
       "        vertical-align: top;\n",
       "    }\n",
       "\n",
       "    .dataframe thead th {\n",
       "        text-align: right;\n",
       "    }\n",
       "</style>\n",
       "<table border=\"1\" class=\"dataframe\">\n",
       "  <thead>\n",
       "    <tr style=\"text-align: right;\">\n",
       "      <th></th>\n",
       "      <th>origin</th>\n",
       "      <th>COUNTY_origin</th>\n",
       "      <th>trip_id</th>\n",
       "      <th>pop</th>\n",
       "      <th>base_veh</th>\n",
       "      <th>trip_simulation</th>\n",
       "      <th>trips</th>\n",
       "      <th>diff</th>\n",
       "      <th>diff_pct</th>\n",
       "    </tr>\n",
       "  </thead>\n",
       "  <tbody>\n",
       "    <tr>\n",
       "      <th>38</th>\n",
       "      <td>130591404002</td>\n",
       "      <td>13059</td>\n",
       "      <td>119</td>\n",
       "      <td>1930</td>\n",
       "      <td>1274.434326</td>\n",
       "      <td>1819.892217</td>\n",
       "      <td>445.454538</td>\n",
       "      <td>0.712144</td>\n",
       "      <td>308.547239</td>\n",
       "    </tr>\n",
       "    <tr>\n",
       "      <th>9</th>\n",
       "      <td>130590012001</td>\n",
       "      <td>13059</td>\n",
       "      <td>144</td>\n",
       "      <td>2095</td>\n",
       "      <td>1383.388556</td>\n",
       "      <td>2390.495424</td>\n",
       "      <td>1071.076089</td>\n",
       "      <td>0.629794</td>\n",
       "      <td>123.186331</td>\n",
       "    </tr>\n",
       "    <tr>\n",
       "      <th>19</th>\n",
       "      <td>130590021001</td>\n",
       "      <td>13059</td>\n",
       "      <td>311</td>\n",
       "      <td>3177</td>\n",
       "      <td>2097.864173</td>\n",
       "      <td>7829.229092</td>\n",
       "      <td>4096.543025</td>\n",
       "      <td>1.174909</td>\n",
       "      <td>91.117951</td>\n",
       "    </tr>\n",
       "    <tr>\n",
       "      <th>27</th>\n",
       "      <td>130591303002</td>\n",
       "      <td>13059</td>\n",
       "      <td>135</td>\n",
       "      <td>3325</td>\n",
       "      <td>2195.592815</td>\n",
       "      <td>3556.860361</td>\n",
       "      <td>1977.585263</td>\n",
       "      <td>0.474970</td>\n",
       "      <td>79.858761</td>\n",
       "    </tr>\n",
       "    <tr>\n",
       "      <th>48</th>\n",
       "      <td>130591504003</td>\n",
       "      <td>13059</td>\n",
       "      <td>131</td>\n",
       "      <td>602</td>\n",
       "      <td>397.517857</td>\n",
       "      <td>624.898071</td>\n",
       "      <td>2328.511117</td>\n",
       "      <td>-2.829922</td>\n",
       "      <td>73.163191</td>\n",
       "    </tr>\n",
       "    <tr>\n",
       "      <th>40</th>\n",
       "      <td>130591406001</td>\n",
       "      <td>13059</td>\n",
       "      <td>140</td>\n",
       "      <td>538</td>\n",
       "      <td>355.256822</td>\n",
       "      <td>596.831462</td>\n",
       "      <td>1890.607180</td>\n",
       "      <td>-2.404788</td>\n",
       "      <td>68.431757</td>\n",
       "    </tr>\n",
       "    <tr>\n",
       "      <th>42</th>\n",
       "      <td>130591406003</td>\n",
       "      <td>13059</td>\n",
       "      <td>143</td>\n",
       "      <td>1576</td>\n",
       "      <td>1040.677978</td>\n",
       "      <td>1785.803410</td>\n",
       "      <td>1071.507186</td>\n",
       "      <td>0.453234</td>\n",
       "      <td>66.662756</td>\n",
       "    </tr>\n",
       "    <tr>\n",
       "      <th>31</th>\n",
       "      <td>130591305001</td>\n",
       "      <td>13059</td>\n",
       "      <td>131</td>\n",
       "      <td>1163</td>\n",
       "      <td>767.962239</td>\n",
       "      <td>1207.236639</td>\n",
       "      <td>724.388211</td>\n",
       "      <td>0.415175</td>\n",
       "      <td>66.656031</td>\n",
       "    </tr>\n",
       "  </tbody>\n",
       "</table>\n",
       "</div>"
      ],
      "text/plain": [
       "          origin COUNTY_origin  trip_id   pop     base_veh  trip_simulation  \\\n",
       "38  130591404002         13059      119  1930  1274.434326      1819.892217   \n",
       "9   130590012001         13059      144  2095  1383.388556      2390.495424   \n",
       "19  130590021001         13059      311  3177  2097.864173      7829.229092   \n",
       "27  130591303002         13059      135  3325  2195.592815      3556.860361   \n",
       "48  130591504003         13059      131   602   397.517857       624.898071   \n",
       "40  130591406001         13059      140   538   355.256822       596.831462   \n",
       "42  130591406003         13059      143  1576  1040.677978      1785.803410   \n",
       "31  130591305001         13059      131  1163   767.962239      1207.236639   \n",
       "\n",
       "          trips      diff    diff_pct  \n",
       "38   445.454538  0.712144  308.547239  \n",
       "9   1071.076089  0.629794  123.186331  \n",
       "19  4096.543025  1.174909   91.117951  \n",
       "27  1977.585263  0.474970   79.858761  \n",
       "48  2328.511117 -2.829922   73.163191  \n",
       "40  1890.607180 -2.404788   68.431757  \n",
       "42  1071.507186  0.453234   66.662756  \n",
       "31   724.388211  0.415175   66.656031  "
      ]
     },
     "execution_count": 113,
     "metadata": {},
     "output_type": "execute_result"
    }
   ],
   "source": [
    "# actual total out trips\n",
    "# benchmark = od_long[(od_long.COUNTY_origin=='13059')& (od_long.COUNTY_dest=='13059')]  \n",
    "benchmark = od_long[(od_long.origin.isin(bg_list))& (od_long.destination.isin(bg_list))]  \n",
    "benchmark.trips = benchmark.trips * benchmark.car_share\n",
    "benchmark = benchmark.groupby(['origin','COUNTY_origin']).agg({'trips':'sum'}).reset_index()\n",
    "benchmark.head()\n",
    "\n",
    "# simulation total out trips\n",
    "total_estimate = df.copy()\n",
    "total_estimate['COUNTY_origin'] = total_estimate['start_zone'].astype(str).str[:5]\n",
    "total_estimate['COUNTY_dest'] = total_estimate['end_zone'].astype(str).str[:5]\n",
    "\n",
    "# seelct zones to compare\n",
    "# total_estimate = total_estimate[(total_estimate.COUNTY_origin=='13059')&(total_estimate.COUNTY_dest=='13059')]\n",
    "total_estimate = total_estimate[(total_estimate.start_zone.isin(bg_list))& (total_estimate.end_zone.isin(bg_list))] \n",
    "\n",
    "total_estimate = total_estimate.groupby(['start_zone','COUNTY_origin']).agg({'trip_id':'count'}).reset_index()\n",
    "total_estimate = total_estimate.rename(columns={'start_zone':'origin'})\n",
    "\n",
    "total_estimate = pd.merge(total_estimate,bg_base,on=['origin','COUNTY_origin'])\n",
    "# calibrate simulation demand\n",
    "total_estimate['trip_simulation'] = total_estimate['trip_id'] * total_estimate['base_veh']/100 * 1.2\n",
    "total_estimate = pd.merge(total_estimate,benchmark,on=['origin','COUNTY_origin'])\n",
    "\n",
    "# total_estimate['diff'] = total_estimate['trip_simulation']-total_estimate['trips']\n",
    "total_estimate['diff'] = total_estimate['trip_simulation']/total_estimate['pop']-total_estimate['trips']/total_estimate['pop']\n",
    "total_estimate['diff_pct'] = np.abs(total_estimate['diff'])/(total_estimate['trips']/total_estimate['pop'])*100\n",
    "\n",
    "total_estimate = total_estimate[total_estimate.trip_simulation<=15000]\n",
    "print(total_estimate.base_veh.sum())\n",
    "total_estimate.sort_values('diff_pct',ascending=False).head(8)"
   ]
  },
  {
   "cell_type": "code",
   "execution_count": 104,
   "metadata": {},
   "outputs": [
    {
     "name": "stdout",
     "output_type": "stream",
     "text": [
      "0.9997099003770229\n",
      "0.5213409997697545\n"
     ]
    },
    {
     "data": {
      "text/plain": [
       "Text(0.5, 1.0, 'Trip validation for Block Group outgoing trips')"
      ]
     },
     "execution_count": 104,
     "metadata": {},
     "output_type": "execute_result"
    },
    {
     "data": {
      "image/png": "[encoded data removed]",
      "text/plain": [
       "<Figure size 640x480 with 1 Axes>"
      ]
     },
     "metadata": {},
     "output_type": "display_data"
    }
   ],
   "source": [
    "print(total_estimate['diff'].abs().mean())\n",
    "print(total_estimate['diff'].abs().median())\n",
    "sns.scatterplot(data=total_estimate,x='trip_simulation',y='trips',color='#69b3a2',edgecolor='none')\n",
    "sns.lineplot(data=total_estimate,x='trips',y='trips',color='black', linestyle='--')\n",
    "plt.xlabel('number of trips (simulation)')\n",
    "plt.ylabel('number of trips (actual)')\n",
    "\n",
    "# Calculate regression coefficients and p-values\n",
    "slope, intercept, r_value, p_value, std_err = linregress(total_estimate['trip_simulation'], total_estimate['trips'])\n",
    "coefficient_text = f\"coefficient: {slope:.2f}\"\n",
    "p_value_text = f\"p-value = {p_value:.3f}\"\n",
    "plt.text(0.5, 0.8, coefficient_text, ha='center', va='center', transform=plt.gca().transAxes, fontsize=10)\n",
    "plt.text(0.5, 0.75, p_value_text, ha='center', va='center', transform=plt.gca().transAxes, fontsize=10)\n",
    "\n",
    "plt.xlim(0,20000)\n",
    "plt.ylim(0,20000)\n",
    "plt.title(\"Trip validation for Block Group outgoing trips\")"
   ]
  },
  {
   "cell_type": "code",
   "execution_count": 24,
   "metadata": {},
   "outputs": [
    {
     "data": {
      "text/html": [
       "<div>\n",
       "<style scoped>\n",
       "    .dataframe tbody tr th:only-of-type {\n",
       "        vertical-align: middle;\n",
       "    }\n",
       "\n",
       "    .dataframe tbody tr th {\n",
       "        vertical-align: top;\n",
       "    }\n",
       "\n",
       "    .dataframe thead th {\n",
       "        text-align: right;\n",
       "    }\n",
       "</style>\n",
       "<table border=\"1\" class=\"dataframe\">\n",
       "  <thead>\n",
       "    <tr style=\"text-align: right;\">\n",
       "      <th></th>\n",
       "      <th>origin</th>\n",
       "      <th>COUNTY_origin</th>\n",
       "      <th>trip_id</th>\n",
       "      <th>pop</th>\n",
       "      <th>base_veh</th>\n",
       "      <th>trip_simulation</th>\n",
       "      <th>trips</th>\n",
       "      <th>diff</th>\n",
       "      <th>diff_pct</th>\n",
       "    </tr>\n",
       "  </thead>\n",
       "  <tbody>\n",
       "    <tr>\n",
       "      <th>10</th>\n",
       "      <td>130590012002</td>\n",
       "      <td>13059</td>\n",
       "      <td>122</td>\n",
       "      <td>1068</td>\n",
       "      <td>705.231016</td>\n",
       "      <td>860.381839</td>\n",
       "      <td>774.362402</td>\n",
       "      <td>86.019437</td>\n",
       "      <td>11.108421</td>\n",
       "    </tr>\n",
       "    <tr>\n",
       "      <th>31</th>\n",
       "      <td>130591305001</td>\n",
       "      <td>13059</td>\n",
       "      <td>131</td>\n",
       "      <td>1163</td>\n",
       "      <td>767.962239</td>\n",
       "      <td>1006.030533</td>\n",
       "      <td>724.388211</td>\n",
       "      <td>281.642321</td>\n",
       "      <td>38.880026</td>\n",
       "    </tr>\n",
       "    <tr>\n",
       "      <th>33</th>\n",
       "      <td>130591305003</td>\n",
       "      <td>13059</td>\n",
       "      <td>105</td>\n",
       "      <td>570</td>\n",
       "      <td>376.387340</td>\n",
       "      <td>395.206707</td>\n",
       "      <td>546.608668</td>\n",
       "      <td>-151.401961</td>\n",
       "      <td>27.698419</td>\n",
       "    </tr>\n",
       "    <tr>\n",
       "      <th>38</th>\n",
       "      <td>130591404002</td>\n",
       "      <td>13059</td>\n",
       "      <td>119</td>\n",
       "      <td>1930</td>\n",
       "      <td>1274.434326</td>\n",
       "      <td>1516.576848</td>\n",
       "      <td>445.454538</td>\n",
       "      <td>1071.122310</td>\n",
       "      <td>240.456033</td>\n",
       "    </tr>\n",
       "    <tr>\n",
       "      <th>44</th>\n",
       "      <td>130591503002</td>\n",
       "      <td>13059</td>\n",
       "      <td>117</td>\n",
       "      <td>849</td>\n",
       "      <td>560.619038</td>\n",
       "      <td>655.924274</td>\n",
       "      <td>590.991599</td>\n",
       "      <td>64.932675</td>\n",
       "      <td>10.987072</td>\n",
       "    </tr>\n",
       "  </tbody>\n",
       "</table>\n",
       "</div>"
      ],
      "text/plain": [
       "          origin COUNTY_origin  trip_id   pop     base_veh  trip_simulation  \\\n",
       "10  130590012002         13059      122  1068   705.231016       860.381839   \n",
       "31  130591305001         13059      131  1163   767.962239      1006.030533   \n",
       "33  130591305003         13059      105   570   376.387340       395.206707   \n",
       "38  130591404002         13059      119  1930  1274.434326      1516.576848   \n",
       "44  130591503002         13059      117   849   560.619038       655.924274   \n",
       "\n",
       "         trips         diff    diff_pct  \n",
       "10  774.362402    86.019437   11.108421  \n",
       "31  724.388211   281.642321   38.880026  \n",
       "33  546.608668  -151.401961   27.698419  \n",
       "38  445.454538  1071.122310  240.456033  \n",
       "44  590.991599    64.932675   10.987072  "
      ]
     },
     "execution_count": 24,
     "metadata": {},
     "output_type": "execute_result"
    }
   ],
   "source": [
    "total_estimate[total_estimate.trips<1000]"
   ]
  },
  {
   "cell_type": "markdown",
   "metadata": {},
   "source": [
    "### in=out?"
   ]
  },
  {
   "cell_type": "code",
   "execution_count": 110,
   "metadata": {},
   "outputs": [
    {
     "data": {
      "text/plain": [
       "Text(0.5, 1.0, 'Block Group incoming and outgoing simulation trips')"
      ]
     },
     "execution_count": 110,
     "metadata": {},
     "output_type": "execute_result"
    },
    {
     "data": {
      "image/png": "[encoded data removed]",
      "text/plain": [
       "<Figure size 640x480 with 1 Axes>"
      ]
     },
     "metadata": {},
     "output_type": "display_data"
    }
   ],
   "source": [
    "# simulation total out trips\n",
    "total_estimate = df.copy()\n",
    "total_estimate['COUNTY_origin'] = total_estimate['start_zone'].astype(str).str[:5]\n",
    "total_estimate['COUNTY_dest'] = total_estimate['end_zone'].astype(str).str[:5]\n",
    "\n",
    "# seelct zones to compare\n",
    "total_estimate = total_estimate[(total_estimate.COUNTY_origin=='13059')&(total_estimate.COUNTY_dest=='13059')]\n",
    "\n",
    "intrips = total_estimate.groupby(['end_zone','COUNTY_dest']).agg({'trip_id':'count'}).reset_index()\n",
    "intrips = intrips.rename(columns={'end_zone':'destination'})\n",
    "outtrips = total_estimate.groupby(['start_zone','COUNTY_origin']).agg({'trip_id':'count'}).reset_index()\n",
    "outtrips = outtrips.rename(columns={'start_zone':'origin'})\n",
    "total_estimate = pd.merge(intrips,outtrips,left_on=['destination','COUNTY_dest'],right_on=['origin','COUNTY_origin'])\n",
    "total_estimate = pd.merge(total_estimate,bg_base,on=['origin'])\n",
    "total_estimate['trip_id_x'] = total_estimate['trip_id_x'] * total_estimate['base_veh']/100\n",
    "total_estimate['trip_id_y'] = total_estimate['trip_id_y'] * total_estimate['base_veh']/100\n",
    "total_estimate.head()\n",
    "\n",
    "total_estimate = total_estimate[total_estimate.trip_id_x<=20000]\n",
    "sns.scatterplot(data=total_estimate,x='trip_id_x',y='trip_id_y',color='#69b3a2',edgecolor='none')\n",
    "sns.lineplot(data=total_estimate,x='trip_id_x',y='trip_id_x',color='black', linestyle='--')\n",
    "plt.xlabel('incoming trips')\n",
    "plt.ylabel('outgoing trips')\n",
    "\n",
    "# Calculate regression coefficients and p-values\n",
    "slope, intercept, r_value, p_value, std_err = linregress(total_estimate['trip_id_x'], total_estimate['trip_id_y'])\n",
    "coefficient_text = f\"coefficient: {slope:.2f}\"\n",
    "p_value_text = f\"p-value = {p_value:.3f}\"\n",
    "plt.text(0.5, 0.8, coefficient_text, ha='center', va='center', transform=plt.gca().transAxes, fontsize=10)\n",
    "plt.text(0.5, 0.75, p_value_text, ha='center', va='center', transform=plt.gca().transAxes, fontsize=10)\n",
    "\n",
    "plt.title(\"Block Group incoming and outgoing simulation trips\")"
   ]
  },
  {
   "cell_type": "code",
   "execution_count": null,
   "metadata": {},
   "outputs": [],
   "source": [
    "print(total_estimate['diff'].abs().mean())\n",
    "print(total_estimate['diff'].abs().median())\n",
    "sns.scatterplot(data=total_estimate,x='trip_simulation',y='trips',color='#69b3a2',edgecolor='none')\n",
    "sns.lineplot(data=total_estimate,x='trips',y='trips',color='black', linestyle='--')\n",
    "plt.xlabel('number of trips (simulation)')\n",
    "plt.ylabel('number of trips (actual)')\n",
    "\n",
    "# Calculate regression coefficients and p-values\n",
    "slope, intercept, r_value, p_value, std_err = linregress(total_estimate['trip_simulation'], total_estimate['trips'])\n",
    "coefficient_text = f\"coefficient: {slope:.2f}\"\n",
    "p_value_text = f\"p-value = {p_value:.3f}\"\n",
    "plt.text(0.5, 0.8, coefficient_text, ha='center', va='center', transform=plt.gca().transAxes, fontsize=10)\n",
    "plt.text(0.5, 0.75, p_value_text, ha='center', va='center', transform=plt.gca().transAxes, fontsize=10)\n",
    "\n",
    "plt.xlim(0,20000)\n",
    "plt.ylim(0,20000)\n",
    "plt.title(\"Trip validation for Block Group outgoing trips\")"
   ]
  }
 ],
 "metadata": {
  "kernelspec": {
   "display_name": "Python 3 (ipykernel)",
   "language": "python",
   "name": "python3"
  },
  "language_info": {
   "codemirror_mode": {
    "name": "ipython",
    "version": 3
   },
   "file_extension": ".py",
   "mimetype": "text/x-python",
   "name": "python",
   "nbconvert_exporter": "python",
   "pygments_lexer": "ipython3",
   "version": "3.9.17"
  }
 },
 "nbformat": 4,
 "nbformat_minor": 2
}
